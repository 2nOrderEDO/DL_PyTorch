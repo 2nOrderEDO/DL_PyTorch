{
 "cells": [
  {
   "cell_type": "markdown",
   "metadata": {},
   "source": [
    "# Classifying Fashion-MNIST\n",
    "\n",
    "Now it's your turn to build and train a neural network. You'll be using the [Fashion-MNIST dataset](https://github.com/zalandoresearch/fashion-mnist), a drop-in replacement for the MNIST dataset. MNIST is actually quite trivial with neural networks where you can easily achieve better than 97% accuracy. Fashion-MNIST is a set of 28x28 greyscale images of clothes. It's more complex than MNIST, so it's a better representation of the actual performance of your network, and a better representation of datasets you'll use in the real world.\n",
    "\n",
    "<img src='assets/fashion-mnist-sprite.png' width=500px>\n",
    "\n",
    "In this notebook, you'll build your own neural network. For the most part, you could just copy and paste the code from Part 3, but you wouldn't be learning. It's important for you to write the code yourself and get it to work. Feel free to consult the previous notebook though as you work through this.\n",
    "\n",
    "First off, let's load the dataset through torchvision."
   ]
  },
  {
   "cell_type": "code",
   "execution_count": 1,
   "metadata": {},
   "outputs": [
    {
     "name": "stdout",
     "output_type": "stream",
     "text": [
      "Downloading http://fashion-mnist.s3-website.eu-central-1.amazonaws.com/train-images-idx3-ubyte.gz\n",
      "Downloading http://fashion-mnist.s3-website.eu-central-1.amazonaws.com/train-labels-idx1-ubyte.gz\n",
      "Downloading http://fashion-mnist.s3-website.eu-central-1.amazonaws.com/t10k-images-idx3-ubyte.gz\n",
      "Downloading http://fashion-mnist.s3-website.eu-central-1.amazonaws.com/t10k-labels-idx1-ubyte.gz\n",
      "Processing...\n",
      "Done!\n"
     ]
    }
   ],
   "source": [
    "import torch\n",
    "from torchvision import datasets, transforms\n",
    "import helper\n",
    "\n",
    "# Define a transform to normalize the data\n",
    "transform = transforms.Compose([transforms.ToTensor(),\n",
    "                                transforms.Normalize((0.5, 0.5, 0.5), (0.5, 0.5, 0.5))])\n",
    "# Download and load the training data\n",
    "trainset = datasets.FashionMNIST('F_MNIST_data/', download=True, train=True, transform=transform)\n",
    "trainloader = torch.utils.data.DataLoader(trainset, batch_size=64, shuffle=True)\n",
    "\n",
    "# Download and load the test data\n",
    "testset = datasets.FashionMNIST('F_MNIST_data/', download=True, train=False, transform=transform)\n",
    "testloader = torch.utils.data.DataLoader(testset, batch_size=64, shuffle=True)"
   ]
  },
  {
   "cell_type": "markdown",
   "metadata": {},
   "source": [
    "Here we can see one of the images."
   ]
  },
  {
   "cell_type": "code",
   "execution_count": 3,
   "metadata": {},
   "outputs": [
    {
     "data": {
      "image/png": "[encoded data removed]",
      "text/plain": [
       "<Figure size 432x288 with 1 Axes>"
      ]
     },
     "metadata": {},
     "output_type": "display_data"
    }
   ],
   "source": [
    "image, label = next(iter(trainloader))\n",
    "helper.imshow(image[0,:]);"
   ]
  },
  {
   "cell_type": "markdown",
   "metadata": {},
   "source": [
    "With the data loaded, it's time to import the necessary packages."
   ]
  },
  {
   "cell_type": "code",
   "execution_count": 6,
   "metadata": {},
   "outputs": [],
   "source": [
    "%matplotlib inline\n",
    "%config InlineBackend.figure_format = 'retina'\n",
    "\n",
    "import matplotlib.pyplot as plt\n",
    "import numpy as np\n",
    "import time\n",
    "\n",
    "import torch\n",
    "from torch import nn\n",
    "from torch import optim\n",
    "import torch.nn.functional as F\n",
    "from torchvision import datasets, transforms\n",
    "\n",
    "import helper"
   ]
  },
  {
   "cell_type": "markdown",
   "metadata": {},
   "source": [
    "## Building the network\n",
    "\n",
    "Here you should define your network. As with MNIST, each image is 28x28 which is a total of 784 pixels, and there are 10 classes. You should include at least one hidden layer. We suggest you use ReLU activations for the layers and to return the logits from the forward pass. It's up to you how many layers you add and the size of those layers."
   ]
  },
  {
   "cell_type": "code",
   "execution_count": 11,
   "metadata": {},
   "outputs": [],
   "source": [
    "# TODO: Define your network architecture here\n",
    "from collections import OrderedDict\n",
    "\n",
    "il_size = 784\n",
    "hl_size = [256, 64]\n",
    "ol_size = 10\n",
    "\n",
    "\n",
    "nn_dict = OrderedDict([('hl1', nn.Linear(il_size, hl_size[0])),\n",
    "                       ('ReLU1', nn.ReLU()),\n",
    "                       ('hl2', nn.Linear(hl_size[0], hl_size[1])),\n",
    "                       ('ReLU2', nn.ReLU()),\n",
    "                       ('ol', nn.Linear(hl_size[1], ol_size)),\n",
    "                       ])\n",
    "\n",
    "nn_model = nn.Sequential(nn_dict)"
   ]
  },
  {
   "cell_type": "markdown",
   "metadata": {},
   "source": [
    "# Train the network\n",
    "\n",
    "Now you should create your network and train it. First you'll want to define [the criterion](http://pytorch.org/docs/master/nn.html#loss-functions) ( something like `nn.CrossEntropyLoss`) and [the optimizer](http://pytorch.org/docs/master/optim.html) (typically `optim.SGD` or `optim.Adam`).\n",
    "\n",
    "Then write the training code. Remember the training pass is a fairly straightforward process:\n",
    "\n",
    "* Make a forward pass through the network to get the logits \n",
    "* Use the logits to calculate the loss\n",
    "* Perform a backward pass through the network with `loss.backward()` to calculate the gradients\n",
    "* Take a step with the optimizer to update the weights\n",
    "\n",
    "By adjusting the hyperparameters (hidden units, learning rate, etc), you should be able to get the training loss below 0.4."
   ]
  },
  {
   "cell_type": "code",
   "execution_count": 21,
   "metadata": {},
   "outputs": [],
   "source": [
    "# TODO: Create the network, define the criterion and optimizer\n",
    "criterion = nn.CrossEntropyLoss()\n",
    "optimizer = optim.SGD(nn_model.parameters(), lr= 0.01)"
   ]
  },
  {
   "cell_type": "code",
   "execution_count": 52,
   "metadata": {},
   "outputs": [
    {
     "name": "stdout",
     "output_type": "stream",
     "text": [
      "Epoch: 1/6... 0.3914\n",
      "Epoch: 1/6... 0.3894\n",
      "Epoch: 1/6... 0.4085\n",
      "Epoch: 1/6... 0.4119\n",
      "Epoch: 1/6... 0.3952\n",
      "Epoch: 1/6... 0.4066\n",
      "Epoch: 1/6... 0.3515\n",
      "Epoch: 1/6... 0.3645\n",
      "Epoch: 1/6... 0.3765\n",
      "Epoch: 1/6... 0.3618\n",
      "Epoch: 1/6... 0.3692\n",
      "Epoch: 1/6... 0.3963\n",
      "Epoch: 1/6... 0.3947\n",
      "Epoch: 1/6... 0.4108\n",
      "Epoch: 1/6... 0.3754\n",
      "Epoch: 1/6... 0.3991\n",
      "Epoch: 1/6... 0.3788\n",
      "Epoch: 1/6... 0.4119\n",
      "Epoch: 1/6... 0.3785\n",
      "Epoch: 1/6... 0.3564\n",
      "Epoch: 1/6... 0.3965\n",
      "Epoch: 1/6... 0.3865\n",
      "Epoch: 1/6... 0.3759\n",
      "Epoch: 2/6... 0.2294\n",
      "Epoch: 2/6... 0.3865\n",
      "Epoch: 2/6... 0.3540\n",
      "Epoch: 2/6... 0.3906\n",
      "Epoch: 2/6... 0.3709\n",
      "Epoch: 2/6... 0.3568\n",
      "Epoch: 2/6... 0.3982\n",
      "Epoch: 2/6... 0.3905\n",
      "Epoch: 2/6... 0.3913\n",
      "Epoch: 2/6... 0.3697\n",
      "Epoch: 2/6... 0.3637\n",
      "Epoch: 2/6... 0.3847\n",
      "Epoch: 2/6... 0.3979\n",
      "Epoch: 2/6... 0.3818\n",
      "Epoch: 2/6... 0.3852\n",
      "Epoch: 2/6... 0.3555\n",
      "Epoch: 2/6... 0.3898\n",
      "Epoch: 2/6... 0.3694\n",
      "Epoch: 2/6... 0.3563\n",
      "Epoch: 2/6... 0.3712\n",
      "Epoch: 2/6... 0.3435\n",
      "Epoch: 2/6... 0.3808\n",
      "Epoch: 2/6... 0.3785\n",
      "Epoch: 3/6... 0.0377\n",
      "Epoch: 3/6... 0.3556\n",
      "Epoch: 3/6... 0.3543\n",
      "Epoch: 3/6... 0.3751\n",
      "Epoch: 3/6... 0.3683\n",
      "Epoch: 3/6... 0.3664\n",
      "Epoch: 3/6... 0.3931\n",
      "Epoch: 3/6... 0.3669\n",
      "Epoch: 3/6... 0.3763\n",
      "Epoch: 3/6... 0.3527\n",
      "Epoch: 3/6... 0.3564\n",
      "Epoch: 3/6... 0.3422\n",
      "Epoch: 3/6... 0.3829\n",
      "Epoch: 3/6... 0.3592\n",
      "Epoch: 3/6... 0.3771\n",
      "Epoch: 3/6... 0.3734\n",
      "Epoch: 3/6... 0.3759\n",
      "Epoch: 3/6... 0.3577\n",
      "Epoch: 3/6... 0.3728\n",
      "Epoch: 3/6... 0.3671\n",
      "Epoch: 3/6... 0.3645\n",
      "Epoch: 3/6... 0.3723\n",
      "Epoch: 3/6... 0.3633\n",
      "Epoch: 3/6... 0.3753\n",
      "Epoch: 4/6... 0.2479\n",
      "Epoch: 4/6... 0.3598\n",
      "Epoch: 4/6... 0.3672\n",
      "Epoch: 4/6... 0.3501\n",
      "Epoch: 4/6... 0.3561\n",
      "Epoch: 4/6... 0.3689\n",
      "Epoch: 4/6... 0.3662\n",
      "Epoch: 4/6... 0.3573\n",
      "Epoch: 4/6... 0.3883\n",
      "Epoch: 4/6... 0.3340\n",
      "Epoch: 4/6... 0.3616\n",
      "Epoch: 4/6... 0.3540\n",
      "Epoch: 4/6... 0.3512\n",
      "Epoch: 4/6... 0.3553\n",
      "Epoch: 4/6... 0.3922\n",
      "Epoch: 4/6... 0.3667\n",
      "Epoch: 4/6... 0.3522\n",
      "Epoch: 4/6... 0.3610\n",
      "Epoch: 4/6... 0.3308\n",
      "Epoch: 4/6... 0.3600\n",
      "Epoch: 4/6... 0.3206\n",
      "Epoch: 4/6... 0.3616\n",
      "Epoch: 4/6... 0.3604\n",
      "Epoch: 5/6... 0.0722\n",
      "Epoch: 5/6... 0.3586\n",
      "Epoch: 5/6... 0.3630\n",
      "Epoch: 5/6... 0.3606\n",
      "Epoch: 5/6... 0.3509\n",
      "Epoch: 5/6... 0.3308\n",
      "Epoch: 5/6... 0.3381\n",
      "Epoch: 5/6... 0.3578\n",
      "Epoch: 5/6... 0.3400\n",
      "Epoch: 5/6... 0.3424\n",
      "Epoch: 5/6... 0.3172\n",
      "Epoch: 5/6... 0.3236\n",
      "Epoch: 5/6... 0.3394\n",
      "Epoch: 5/6... 0.3694\n",
      "Epoch: 5/6... 0.3395\n",
      "Epoch: 5/6... 0.3474\n",
      "Epoch: 5/6... 0.3370\n",
      "Epoch: 5/6... 0.3686\n",
      "Epoch: 5/6... 0.3635\n",
      "Epoch: 5/6... 0.3537\n",
      "Epoch: 5/6... 0.3687\n",
      "Epoch: 5/6... 0.3411\n",
      "Epoch: 5/6... 0.3457\n",
      "Epoch: 5/6... 0.3723\n",
      "Epoch: 6/6... 0.2376\n",
      "Epoch: 6/6... 0.3509\n",
      "Epoch: 6/6... 0.3575\n",
      "Epoch: 6/6... 0.3258\n",
      "Epoch: 6/6... 0.3186\n",
      "Epoch: 6/6... 0.3329\n",
      "Epoch: 6/6... 0.3458\n",
      "Epoch: 6/6... 0.3548\n",
      "Epoch: 6/6... 0.3478\n",
      "Epoch: 6/6... 0.3639\n",
      "Epoch: 6/6... 0.3561\n",
      "Epoch: 6/6... 0.3579\n",
      "Epoch: 6/6... 0.3349\n",
      "Epoch: 6/6... 0.3236\n",
      "Epoch: 6/6... 0.3426\n",
      "Epoch: 6/6... 0.3222\n",
      "Epoch: 6/6... 0.3339\n",
      "Epoch: 6/6... 0.3538\n",
      "Epoch: 6/6... 0.3365\n",
      "Epoch: 6/6... 0.3573\n",
      "Epoch: 6/6... 0.3267\n",
      "Epoch: 6/6... 0.3443\n",
      "Epoch: 6/6... 0.3501\n"
     ]
    }
   ],
   "source": [
    "# TODO: Train the network here\n",
    "epochs = 3\n",
    "steps = 0\n",
    "\n",
    "for e in range(epochs):\n",
    "    running_loss = 0\n",
    "    for images, labels in trainloader:\n",
    "        steps += 1\n",
    "        #images, labels = next(iter(trainloader))\n",
    "        images.resize_(images.shape[0], 784)\n",
    "        optimizer.zero_grad()\n",
    "\n",
    "        output = nn_model.forward(images)\n",
    "        loss = criterion(output, labels)\n",
    "        loss.backward()\n",
    "        optimizer.step()\n",
    "        \n",
    "        running_loss += loss.item()\n",
    "        \n",
    "        if steps % 40 == 0:\n",
    "            print('Epoch: {}/{}...'.format(e+1, epochs),\n",
    "                  '{:.4f}'.format(running_loss/40))\n",
    "            running_loss = 0\n"
   ]
  },
  {
   "cell_type": "code",
   "execution_count": 79,
   "metadata": {},
   "outputs": [
    {
     "data": {
      "image/png": "[encoded data removed]",
      "text/plain": [
       "<Figure size 432x648 with 2 Axes>"
      ]
     },
     "metadata": {
      "image/png": {
       "height": 204,
       "width": 423
      }
     },
     "output_type": "display_data"
    }
   ],
   "source": [
    "# Test out your network!\n",
    "\n",
    "dataiter = iter(testloader)\n",
    "images, labels = dataiter.next()\n",
    "img = images[0]\n",
    "# Convert 2D image to 1D vector\n",
    "img = img.resize_(1, 784)\n",
    "\n",
    "# TODO: Calculate the class probabilities (softmax) for img\n",
    "ps = F.softmax(nn_model.forward(img), dim= 1)\n",
    "\n",
    "# Plot the image and probabilities\n",
    "helper.view_classify(img.resize_(1, 28, 28), ps, version='Fashion')"
   ]
  },
  {
   "cell_type": "markdown",
   "metadata": {},
   "source": [
    "Now that your network is trained, you'll want to save it to disk so you can load it later instead of training it again. Obviously, it's impractical to train a network every time you need one. In practice, you'll train it once, save the model, then reload it for further training or making predictions. In the next part, I'll show you how to save and load trained models."
   ]
  }
 ],
 "metadata": {
  "kernelspec": {
   "display_name": "Python 3",
   "language": "python",
   "name": "python3"
  },
  "language_info": {
   "codemirror_mode": {
    "name": "ipython",
    "version": 3
   },
   "file_extension": ".py",
   "mimetype": "text/x-python",
   "name": "python",
   "nbconvert_exporter": "python",
   "pygments_lexer": "ipython3",
   "version": "3.6.5"
  }
 },
 "nbformat": 4,
 "nbformat_minor": 2
}
